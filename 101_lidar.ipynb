{
 "cells": [
  {
   "cell_type": "markdown",
   "metadata": {},
   "source": [
    "[![image](https://colab.research.google.com/assets/colab-badge.svg)](https://githubtocolab.com/giswqs/geemap/blob/master/examples/notebooks/101_lidar.ipynb)\n",
    "[![image](https://mybinder.org/badge_logo.svg)](https://gishub.org/geemap-binder)\n",
    "\n",
    "**Visualizing LiDAR data in 3D with only one line of code**\n",
    "\n",
    "Uncomment the following line to install [geemap](https://geemap.org) if needed."
   ]
  },
  {
   "cell_type": "code",
   "execution_count": 1,
   "metadata": {},
   "outputs": [
    {
     "name": "stdout",
     "output_type": "stream",
     "text": [
      "Requirement already satisfied: geemap[lidar] in c:\\users\\ikuta\\miniconda3\\envs\\gee\\lib\\site-packages (0.14.3)\n",
      "Requirement already satisfied: pillow in c:\\users\\ikuta\\miniconda3\\envs\\gee\\lib\\site-packages (from geemap[lidar]) (9.0.1)\n",
      "Requirement already satisfied: ipyevents in c:\\users\\ikuta\\miniconda3\\envs\\gee\\lib\\site-packages (from geemap[lidar]) (2.0.1)\n",
      "Requirement already satisfied: pandas in c:\\users\\ikuta\\miniconda3\\envs\\gee\\lib\\site-packages (from geemap[lidar]) (1.4.3)\n",
      "Requirement already satisfied: xyzservices in c:\\users\\ikuta\\miniconda3\\envs\\gee\\lib\\site-packages (from geemap[lidar]) (2022.6.0)\n",
      "Requirement already satisfied: bqplot in c:\\users\\ikuta\\miniconda3\\envs\\gee\\lib\\site-packages (from geemap[lidar]) (0.12.33)\n",
      "Requirement already satisfied: scooby in c:\\users\\ikuta\\miniconda3\\envs\\gee\\lib\\site-packages (from geemap[lidar]) (0.5.12)\n",
      "Requirement already satisfied: earthengine-api>=0.1.304 in c:\\users\\ikuta\\miniconda3\\envs\\gee\\lib\\site-packages (from geemap[lidar]) (0.1.316)\n",
      "Requirement already satisfied: sankee>=0.1.0 in c:\\users\\ikuta\\miniconda3\\envs\\gee\\lib\\site-packages (from geemap[lidar]) (0.1.0)\n",
      "Requirement already satisfied: pycrs in c:\\users\\ikuta\\miniconda3\\envs\\gee\\lib\\site-packages (from geemap[lidar]) (1.0.2)\n",
      "Requirement already satisfied: whiteboxgui>=0.6.0 in c:\\users\\ikuta\\miniconda3\\envs\\gee\\lib\\site-packages (from geemap[lidar]) (0.7.0)\n",
      "Requirement already satisfied: ipyfilechooser>=0.6.0 in c:\\users\\ikuta\\miniconda3\\envs\\gee\\lib\\site-packages (from geemap[lidar]) (0.6.0)\n",
      "Requirement already satisfied: geocoder in c:\\users\\ikuta\\miniconda3\\envs\\gee\\lib\\site-packages (from geemap[lidar]) (1.38.1)\n",
      "Requirement already satisfied: geojson in c:\\users\\ikuta\\miniconda3\\envs\\gee\\lib\\site-packages (from geemap[lidar]) (2.5.0)\n",
      "Requirement already satisfied: colour in c:\\users\\ikuta\\miniconda3\\envs\\gee\\lib\\site-packages (from geemap[lidar]) (0.1.5)\n",
      "Requirement already satisfied: ee-extra>=0.0.10 in c:\\users\\ikuta\\miniconda3\\envs\\gee\\lib\\site-packages (from geemap[lidar]) (0.0.13)\n",
      "Requirement already satisfied: pyshp>=2.1.3 in c:\\users\\ikuta\\miniconda3\\envs\\gee\\lib\\site-packages (from geemap[lidar]) (2.3.0)\n",
      "Requirement already satisfied: matplotlib in c:\\users\\ikuta\\miniconda3\\envs\\gee\\lib\\site-packages (from geemap[lidar]) (3.5.2)\n",
      "Requirement already satisfied: folium>=0.11.0 in c:\\users\\ikuta\\miniconda3\\envs\\gee\\lib\\site-packages (from geemap[lidar]) (0.12.1.post1)\n",
      "Requirement already satisfied: gdown in c:\\users\\ikuta\\miniconda3\\envs\\gee\\lib\\site-packages (from geemap[lidar]) (4.4.0)\n",
      "Requirement already satisfied: ipyleaflet>=0.14.0 in c:\\users\\ikuta\\miniconda3\\envs\\gee\\lib\\site-packages (from geemap[lidar]) (0.16.0)\n",
      "Requirement already satisfied: numpy in c:\\users\\ikuta\\miniconda3\\envs\\gee\\lib\\site-packages (from geemap[lidar]) (1.23.0)\n",
      "Requirement already satisfied: ffmpeg-python in c:\\users\\ikuta\\miniconda3\\envs\\gee\\lib\\site-packages (from geemap[lidar]) (0.2.0)\n",
      "Requirement already satisfied: jupyterlab>=3 in c:\\users\\ikuta\\miniconda3\\envs\\gee\\lib\\site-packages (from geemap[lidar]) (3.4.3)\n",
      "Requirement already satisfied: ipytree in c:\\users\\ikuta\\miniconda3\\envs\\gee\\lib\\site-packages (from geemap[lidar]) (0.2.1)\n",
      "Requirement already satisfied: geeadd>=0.5.1 in c:\\users\\ikuta\\miniconda3\\envs\\gee\\lib\\site-packages (from geemap[lidar]) (0.5.4)\n",
      "Requirement already satisfied: python-box in c:\\users\\ikuta\\miniconda3\\envs\\gee\\lib\\site-packages (from geemap[lidar]) (6.0.2)\n",
      "Requirement already satisfied: ipygany in c:\\users\\ikuta\\miniconda3\\envs\\gee\\lib\\site-packages (from geemap[lidar]) (0.5.0)\n",
      "Requirement already satisfied: laspy in c:\\users\\ikuta\\miniconda3\\envs\\gee\\lib\\site-packages (from geemap[lidar]) (2.2.0)\n",
      "Requirement already satisfied: pyvista in c:\\users\\ikuta\\miniconda3\\envs\\gee\\lib\\site-packages (from geemap[lidar]) (0.36.1)\n",
      "Requirement already satisfied: pyntcloud[las] in c:\\users\\ikuta\\miniconda3\\envs\\gee\\lib\\site-packages (from geemap[lidar]) (0.3.1)\n",
      "Requirement already satisfied: panel in c:\\users\\ikuta\\miniconda3\\envs\\gee\\lib\\site-packages (from geemap[lidar]) (0.13.1)\n",
      "Requirement already satisfied: ipyvtklink in c:\\users\\ikuta\\miniconda3\\envs\\gee\\lib\\site-packages (from geemap[lidar]) (0.2.2)\n",
      "Requirement already satisfied: google-api-python-client<2,>=1.12.1 in c:\\users\\ikuta\\miniconda3\\envs\\gee\\lib\\site-packages (from earthengine-api>=0.1.304->geemap[lidar]) (1.12.8)\n",
      "Requirement already satisfied: google-auth>=1.4.1 in c:\\users\\ikuta\\miniconda3\\envs\\gee\\lib\\site-packages (from earthengine-api>=0.1.304->geemap[lidar]) (1.35.0)\n",
      "Requirement already satisfied: six in c:\\users\\ikuta\\miniconda3\\envs\\gee\\lib\\site-packages (from earthengine-api>=0.1.304->geemap[lidar]) (1.16.0)\n",
      "Requirement already satisfied: httplib2shim in c:\\users\\ikuta\\miniconda3\\envs\\gee\\lib\\site-packages (from earthengine-api>=0.1.304->geemap[lidar]) (0.0.3)\n",
      "Requirement already satisfied: google-cloud-storage in c:\\users\\ikuta\\miniconda3\\envs\\gee\\lib\\site-packages (from earthengine-api>=0.1.304->geemap[lidar]) (1.19.0)\n",
      "Requirement already satisfied: google-auth-httplib2>=0.0.3 in c:\\users\\ikuta\\miniconda3\\envs\\gee\\lib\\site-packages (from earthengine-api>=0.1.304->geemap[lidar]) (0.1.0)\n",
      "Requirement already satisfied: future in c:\\users\\ikuta\\miniconda3\\envs\\gee\\lib\\site-packages (from earthengine-api>=0.1.304->geemap[lidar]) (0.18.2)\n",
      "Requirement already satisfied: httplib2<1dev,>=0.9.2 in c:\\users\\ikuta\\miniconda3\\envs\\gee\\lib\\site-packages (from earthengine-api>=0.1.304->geemap[lidar]) (0.20.4)\n",
      "Requirement already satisfied: jinja2>=2.9 in c:\\users\\ikuta\\miniconda3\\envs\\gee\\lib\\site-packages (from folium>=0.11.0->geemap[lidar]) (3.1.2)\n",
      "Requirement already satisfied: branca>=0.3.0 in c:\\users\\ikuta\\miniconda3\\envs\\gee\\lib\\site-packages (from folium>=0.11.0->geemap[lidar]) (0.5.0)\n",
      "Requirement already satisfied: requests in c:\\users\\ikuta\\miniconda3\\envs\\gee\\lib\\site-packages (from folium>=0.11.0->geemap[lidar]) (2.28.1)\n",
      "Requirement already satisfied: beautifulsoup4>=4.9.0 in c:\\users\\ikuta\\miniconda3\\envs\\gee\\lib\\site-packages (from geeadd>=0.5.1->geemap[lidar]) (4.11.1)\n",
      "Requirement already satisfied: logzero>=1.5.0 in c:\\users\\ikuta\\miniconda3\\envs\\gee\\lib\\site-packages (from geeadd>=0.5.1->geemap[lidar]) (1.7.0)\n",
      "Requirement already satisfied: ipywidgets in c:\\users\\ikuta\\miniconda3\\envs\\gee\\lib\\site-packages (from ipyfilechooser>=0.6.0->geemap[lidar]) (7.7.1)\n",
      "Requirement already satisfied: traittypes<3,>=0.2.1 in c:\\users\\ikuta\\miniconda3\\envs\\gee\\lib\\site-packages (from ipyleaflet>=0.14.0->geemap[lidar]) (0.2.1)\n",
      "Requirement already satisfied: jupyter-core in c:\\users\\ikuta\\miniconda3\\envs\\gee\\lib\\site-packages (from jupyterlab>=3->geemap[lidar]) (4.10.0)\n",
      "Requirement already satisfied: nbclassic~=0.2 in c:\\users\\ikuta\\miniconda3\\envs\\gee\\lib\\site-packages (from jupyterlab>=3->geemap[lidar]) (0.3.7)\n",
      "Requirement already satisfied: jupyterlab-server~=2.10 in c:\\users\\ikuta\\miniconda3\\envs\\gee\\lib\\site-packages (from jupyterlab>=3->geemap[lidar]) (2.14.0)\n",
      "Requirement already satisfied: jupyter-server~=1.16 in c:\\users\\ikuta\\miniconda3\\envs\\gee\\lib\\site-packages (from jupyterlab>=3->geemap[lidar]) (1.18.0)\n",
      "Requirement already satisfied: ipython in c:\\users\\ikuta\\miniconda3\\envs\\gee\\lib\\site-packages (from jupyterlab>=3->geemap[lidar]) (8.4.0)\n",
      "Requirement already satisfied: packaging in c:\\users\\ikuta\\miniconda3\\envs\\gee\\lib\\site-packages (from jupyterlab>=3->geemap[lidar]) (21.3)\n",
      "Requirement already satisfied: tornado>=6.1.0 in c:\\users\\ikuta\\miniconda3\\envs\\gee\\lib\\site-packages (from jupyterlab>=3->geemap[lidar]) (6.1)\n",
      "Requirement already satisfied: plotly>=5.2.2 in c:\\users\\ikuta\\miniconda3\\envs\\gee\\lib\\site-packages (from sankee>=0.1.0->geemap[lidar]) (5.9.0)\n",
      "Requirement already satisfied: whitebox in c:\\users\\ikuta\\miniconda3\\envs\\gee\\lib\\site-packages (from whiteboxgui>=0.6.0->geemap[lidar]) (2.1.2)\n",
      "Requirement already satisfied: traitlets>=4.3.0 in c:\\users\\ikuta\\miniconda3\\envs\\gee\\lib\\site-packages (from bqplot->geemap[lidar]) (5.3.0)\n",
      "Requirement already satisfied: pytz>=2020.1 in c:\\users\\ikuta\\miniconda3\\envs\\gee\\lib\\site-packages (from pandas->geemap[lidar]) (2022.1)\n",
      "Requirement already satisfied: python-dateutil>=2.8.1 in c:\\users\\ikuta\\miniconda3\\envs\\gee\\lib\\site-packages (from pandas->geemap[lidar]) (2.8.2)\n",
      "Requirement already satisfied: tqdm in c:\\users\\ikuta\\miniconda3\\envs\\gee\\lib\\site-packages (from gdown->geemap[lidar]) (4.64.0)\n",
      "Requirement already satisfied: filelock in c:\\users\\ikuta\\miniconda3\\envs\\gee\\lib\\site-packages (from gdown->geemap[lidar]) (3.7.1)\n",
      "Requirement already satisfied: ratelim in c:\\users\\ikuta\\miniconda3\\envs\\gee\\lib\\site-packages (from geocoder->geemap[lidar]) (0.1.6)\n",
      "Requirement already satisfied: click in c:\\users\\ikuta\\miniconda3\\envs\\gee\\lib\\site-packages (from geocoder->geemap[lidar]) (8.1.3)\n",
      "Requirement already satisfied: ipycanvas>=0.5.0 in c:\\users\\ikuta\\miniconda3\\envs\\gee\\lib\\site-packages (from ipyvtklink->geemap[lidar]) (0.12.0)\n",
      "Requirement already satisfied: cycler>=0.10 in c:\\users\\ikuta\\miniconda3\\envs\\gee\\lib\\site-packages (from matplotlib->geemap[lidar]) (0.11.0)\n",
      "Requirement already satisfied: pyparsing>=2.2.1 in c:\\users\\ikuta\\miniconda3\\envs\\gee\\lib\\site-packages (from matplotlib->geemap[lidar]) (3.0.9)\n",
      "Requirement already satisfied: fonttools>=4.22.0 in c:\\users\\ikuta\\miniconda3\\envs\\gee\\lib\\site-packages (from matplotlib->geemap[lidar]) (4.33.3)\n",
      "Requirement already satisfied: kiwisolver>=1.0.1 in c:\\users\\ikuta\\miniconda3\\envs\\gee\\lib\\site-packages (from matplotlib->geemap[lidar]) (1.4.3)\n",
      "Requirement already satisfied: setuptools in c:\\users\\ikuta\\miniconda3\\envs\\gee\\lib\\site-packages (from panel->geemap[lidar]) (61.2.0)\n",
      "Requirement already satisfied: bokeh<2.5.0,>=2.4.0 in c:\\users\\ikuta\\miniconda3\\envs\\gee\\lib\\site-packages (from panel->geemap[lidar]) (2.4.3)\n",
      "Requirement already satisfied: param>=1.12.0 in c:\\users\\ikuta\\miniconda3\\envs\\gee\\lib\\site-packages (from panel->geemap[lidar]) (1.12.2)\n",
      "Requirement already satisfied: typing-extensions in c:\\users\\ikuta\\miniconda3\\envs\\gee\\lib\\site-packages (from panel->geemap[lidar]) (4.3.0)\n",
      "Requirement already satisfied: bleach in c:\\users\\ikuta\\miniconda3\\envs\\gee\\lib\\site-packages (from panel->geemap[lidar]) (5.0.1)\n",
      "Requirement already satisfied: markdown in c:\\users\\ikuta\\miniconda3\\envs\\gee\\lib\\site-packages (from panel->geemap[lidar]) (3.4.1)\n",
      "Requirement already satisfied: pyct>=0.4.4 in c:\\users\\ikuta\\miniconda3\\envs\\gee\\lib\\site-packages (from panel->geemap[lidar]) (0.4.8)\n",
      "Requirement already satisfied: pyviz-comms>=0.7.4 in c:\\users\\ikuta\\miniconda3\\envs\\gee\\lib\\site-packages (from panel->geemap[lidar]) (2.2.0)\n",
      "Requirement already satisfied: scipy>=1.6.0 in c:\\users\\ikuta\\miniconda3\\envs\\gee\\lib\\site-packages (from pyntcloud[las]->geemap[lidar]) (1.9.0)\n",
      "Requirement already satisfied: lazrs in c:\\users\\ikuta\\miniconda3\\envs\\gee\\lib\\site-packages (from pyntcloud[las]->geemap[lidar]) (0.4.3)\n",
      "Requirement already satisfied: vtk in c:\\users\\ikuta\\miniconda3\\envs\\gee\\lib\\site-packages (from pyvista->geemap[lidar]) (9.2.0rc2)\n",
      "Requirement already satisfied: appdirs in c:\\users\\ikuta\\miniconda3\\envs\\gee\\lib\\site-packages (from pyvista->geemap[lidar]) (1.4.4)\n",
      "Requirement already satisfied: imageio in c:\\users\\ikuta\\miniconda3\\envs\\gee\\lib\\site-packages (from pyvista->geemap[lidar]) (2.21.0)\n",
      "Requirement already satisfied: soupsieve>1.2 in c:\\users\\ikuta\\miniconda3\\envs\\gee\\lib\\site-packages (from beautifulsoup4>=4.9.0->geeadd>=0.5.1->geemap[lidar]) (2.3.1)\n",
      "Requirement already satisfied: PyYAML>=3.10 in c:\\users\\ikuta\\miniconda3\\envs\\gee\\lib\\site-packages (from bokeh<2.5.0,>=2.4.0->panel->geemap[lidar]) (6.0)\n",
      "Requirement already satisfied: uritemplate<4dev,>=3.0.0 in c:\\users\\ikuta\\miniconda3\\envs\\gee\\lib\\site-packages (from google-api-python-client<2,>=1.12.1->earthengine-api>=0.1.304->geemap[lidar]) (3.0.1)\n",
      "Requirement already satisfied: google-api-core<2dev,>=1.21.0 in c:\\users\\ikuta\\miniconda3\\envs\\gee\\lib\\site-packages (from google-api-python-client<2,>=1.12.1->earthengine-api>=0.1.304->geemap[lidar]) (1.25.1)\n",
      "Requirement already satisfied: cachetools<5.0,>=2.0.0 in c:\\users\\ikuta\\miniconda3\\envs\\gee\\lib\\site-packages (from google-auth>=1.4.1->earthengine-api>=0.1.304->geemap[lidar]) (4.2.4)\n",
      "Requirement already satisfied: rsa<5,>=3.1.4 in c:\\users\\ikuta\\miniconda3\\envs\\gee\\lib\\site-packages (from google-auth>=1.4.1->earthengine-api>=0.1.304->geemap[lidar]) (4.8)\n",
      "Requirement already satisfied: pyasn1-modules>=0.2.1 in c:\\users\\ikuta\\miniconda3\\envs\\gee\\lib\\site-packages (from google-auth>=1.4.1->earthengine-api>=0.1.304->geemap[lidar]) (0.2.7)\n",
      "Requirement already satisfied: widgetsnbextension~=3.6.0 in c:\\users\\ikuta\\miniconda3\\envs\\gee\\lib\\site-packages (from ipywidgets->ipyfilechooser>=0.6.0->geemap[lidar]) (3.6.1)\n",
      "Requirement already satisfied: jupyterlab-widgets>=1.0.0 in c:\\users\\ikuta\\miniconda3\\envs\\gee\\lib\\site-packages (from ipywidgets->ipyfilechooser>=0.6.0->geemap[lidar]) (1.1.1)\n",
      "Requirement already satisfied: ipykernel>=4.5.1 in c:\\users\\ikuta\\miniconda3\\envs\\gee\\lib\\site-packages (from ipywidgets->ipyfilechooser>=0.6.0->geemap[lidar]) (6.15.0)\n",
      "Requirement already satisfied: ipython-genutils~=0.2.0 in c:\\users\\ikuta\\miniconda3\\envs\\gee\\lib\\site-packages (from ipywidgets->ipyfilechooser>=0.6.0->geemap[lidar]) (0.2.0)\n",
      "Requirement already satisfied: matplotlib-inline in c:\\users\\ikuta\\miniconda3\\envs\\gee\\lib\\site-packages (from ipython->jupyterlab>=3->geemap[lidar]) (0.1.3)\n",
      "Requirement already satisfied: stack-data in c:\\users\\ikuta\\miniconda3\\envs\\gee\\lib\\site-packages (from ipython->jupyterlab>=3->geemap[lidar]) (0.3.0)\n",
      "Requirement already satisfied: colorama in c:\\users\\ikuta\\miniconda3\\envs\\gee\\lib\\site-packages (from ipython->jupyterlab>=3->geemap[lidar]) (0.4.5)\n",
      "Requirement already satisfied: jedi>=0.16 in c:\\users\\ikuta\\miniconda3\\envs\\gee\\lib\\site-packages (from ipython->jupyterlab>=3->geemap[lidar]) (0.18.1)\n",
      "Requirement already satisfied: backcall in c:\\users\\ikuta\\miniconda3\\envs\\gee\\lib\\site-packages (from ipython->jupyterlab>=3->geemap[lidar]) (0.2.0)\n",
      "Requirement already satisfied: prompt-toolkit!=3.0.0,!=3.0.1,<3.1.0,>=2.0.0 in c:\\users\\ikuta\\miniconda3\\envs\\gee\\lib\\site-packages (from ipython->jupyterlab>=3->geemap[lidar]) (3.0.30)\n",
      "Requirement already satisfied: decorator in c:\\users\\ikuta\\miniconda3\\envs\\gee\\lib\\site-packages (from ipython->jupyterlab>=3->geemap[lidar]) (5.1.1)\n",
      "Requirement already satisfied: pickleshare in c:\\users\\ikuta\\miniconda3\\envs\\gee\\lib\\site-packages (from ipython->jupyterlab>=3->geemap[lidar]) (0.7.5)\n",
      "Requirement already satisfied: pygments>=2.4.0 in c:\\users\\ikuta\\miniconda3\\envs\\gee\\lib\\site-packages (from ipython->jupyterlab>=3->geemap[lidar]) (2.12.0)\n",
      "Requirement already satisfied: MarkupSafe>=2.0 in c:\\users\\ikuta\\miniconda3\\envs\\gee\\lib\\site-packages (from jinja2>=2.9->folium>=0.11.0->geemap[lidar]) (2.1.1)\n",
      "Requirement already satisfied: anyio<4,>=3.1.0 in c:\\users\\ikuta\\miniconda3\\envs\\gee\\lib\\site-packages (from jupyter-server~=1.16->jupyterlab>=3->geemap[lidar]) (3.6.1)\n",
      "Requirement already satisfied: pywinpty in c:\\users\\ikuta\\miniconda3\\envs\\gee\\lib\\site-packages (from jupyter-server~=1.16->jupyterlab>=3->geemap[lidar]) (2.0.2)\n",
      "Requirement already satisfied: argon2-cffi in c:\\users\\ikuta\\miniconda3\\envs\\gee\\lib\\site-packages (from jupyter-server~=1.16->jupyterlab>=3->geemap[lidar]) (21.3.0)\n",
      "Requirement already satisfied: Send2Trash in c:\\users\\ikuta\\miniconda3\\envs\\gee\\lib\\site-packages (from jupyter-server~=1.16->jupyterlab>=3->geemap[lidar]) (1.8.0)\n",
      "Requirement already satisfied: terminado>=0.8.3 in c:\\users\\ikuta\\miniconda3\\envs\\gee\\lib\\site-packages (from jupyter-server~=1.16->jupyterlab>=3->geemap[lidar]) (0.15.0)\n",
      "Requirement already satisfied: nbconvert>=6.4.4 in c:\\users\\ikuta\\miniconda3\\envs\\gee\\lib\\site-packages (from jupyter-server~=1.16->jupyterlab>=3->geemap[lidar]) (6.5.0)\n",
      "Requirement already satisfied: jupyter-client>=6.1.12 in c:\\users\\ikuta\\miniconda3\\envs\\gee\\lib\\site-packages (from jupyter-server~=1.16->jupyterlab>=3->geemap[lidar]) (7.3.4)\n",
      "Requirement already satisfied: websocket-client in c:\\users\\ikuta\\miniconda3\\envs\\gee\\lib\\site-packages (from jupyter-server~=1.16->jupyterlab>=3->geemap[lidar]) (1.3.3)\n",
      "Requirement already satisfied: pyzmq>=17 in c:\\users\\ikuta\\miniconda3\\envs\\gee\\lib\\site-packages (from jupyter-server~=1.16->jupyterlab>=3->geemap[lidar]) (23.2.0)\n",
      "Requirement already satisfied: prometheus-client in c:\\users\\ikuta\\miniconda3\\envs\\gee\\lib\\site-packages (from jupyter-server~=1.16->jupyterlab>=3->geemap[lidar]) (0.14.1)\n",
      "Requirement already satisfied: nbformat>=5.2.0 in c:\\users\\ikuta\\miniconda3\\envs\\gee\\lib\\site-packages (from jupyter-server~=1.16->jupyterlab>=3->geemap[lidar]) (5.4.0)\n",
      "Requirement already satisfied: pywin32>=1.0 in c:\\users\\ikuta\\miniconda3\\envs\\gee\\lib\\site-packages (from jupyter-core->jupyterlab>=3->geemap[lidar]) (303)\n",
      "Requirement already satisfied: jsonschema>=3.0.1 in c:\\users\\ikuta\\miniconda3\\envs\\gee\\lib\\site-packages (from jupyterlab-server~=2.10->jupyterlab>=3->geemap[lidar]) (4.6.1)\n",
      "Requirement already satisfied: babel in c:\\users\\ikuta\\miniconda3\\envs\\gee\\lib\\site-packages (from jupyterlab-server~=2.10->jupyterlab>=3->geemap[lidar]) (2.10.3)\n",
      "Requirement already satisfied: json5 in c:\\users\\ikuta\\miniconda3\\envs\\gee\\lib\\site-packages (from jupyterlab-server~=2.10->jupyterlab>=3->geemap[lidar]) (0.9.5)\n",
      "Requirement already satisfied: notebook-shim>=0.1.0 in c:\\users\\ikuta\\miniconda3\\envs\\gee\\lib\\site-packages (from nbclassic~=0.2->jupyterlab>=3->geemap[lidar]) (0.1.0)\n",
      "Requirement already satisfied: notebook<7 in c:\\users\\ikuta\\miniconda3\\envs\\gee\\lib\\site-packages (from nbclassic~=0.2->jupyterlab>=3->geemap[lidar]) (6.4.12)\n",
      "Requirement already satisfied: tenacity>=6.2.0 in c:\\users\\ikuta\\miniconda3\\envs\\gee\\lib\\site-packages (from plotly>=5.2.2->sankee>=0.1.0->geemap[lidar]) (8.0.1)\n",
      "Requirement already satisfied: urllib3<1.27,>=1.21.1 in c:\\users\\ikuta\\miniconda3\\envs\\gee\\lib\\site-packages (from requests->folium>=0.11.0->geemap[lidar]) (1.26.9)\n",
      "Requirement already satisfied: idna<4,>=2.5 in c:\\users\\ikuta\\miniconda3\\envs\\gee\\lib\\site-packages (from requests->folium>=0.11.0->geemap[lidar]) (3.3)\n",
      "Requirement already satisfied: certifi>=2017.4.17 in c:\\users\\ikuta\\miniconda3\\envs\\gee\\lib\\site-packages (from requests->folium>=0.11.0->geemap[lidar]) (2022.6.15)\n",
      "Requirement already satisfied: charset-normalizer<3,>=2 in c:\\users\\ikuta\\miniconda3\\envs\\gee\\lib\\site-packages (from requests->folium>=0.11.0->geemap[lidar]) (2.1.0)\n",
      "Requirement already satisfied: webencodings in c:\\users\\ikuta\\miniconda3\\envs\\gee\\lib\\site-packages (from bleach->panel->geemap[lidar]) (0.5.1)\n",
      "Requirement already satisfied: google-resumable-media>=0.3.1 in c:\\users\\ikuta\\miniconda3\\envs\\gee\\lib\\site-packages (from google-cloud-storage->earthengine-api>=0.1.304->geemap[lidar]) (2.3.3)\n",
      "Requirement already satisfied: google-cloud-core<2.0dev,>=1.0.3 in c:\\users\\ikuta\\miniconda3\\envs\\gee\\lib\\site-packages (from google-cloud-storage->earthengine-api>=0.1.304->geemap[lidar]) (1.7.1)\n",
      "Requirement already satisfied: PySocks!=1.5.7,>=1.5.6 in c:\\users\\ikuta\\miniconda3\\envs\\gee\\lib\\site-packages (from requests->folium>=0.11.0->geemap[lidar]) (1.7.1)\n",
      "Requirement already satisfied: wslink>=1.0.4 in c:\\users\\ikuta\\miniconda3\\envs\\gee\\lib\\site-packages (from vtk->pyvista->geemap[lidar]) (1.6.6)\n",
      "Requirement already satisfied: sniffio>=1.1 in c:\\users\\ikuta\\miniconda3\\envs\\gee\\lib\\site-packages (from anyio<4,>=3.1.0->jupyter-server~=1.16->jupyterlab>=3->geemap[lidar]) (1.2.0)\n",
      "Requirement already satisfied: protobuf>=3.12.0 in c:\\users\\ikuta\\miniconda3\\envs\\gee\\lib\\site-packages (from google-api-core<2dev,>=1.21.0->google-api-python-client<2,>=1.12.1->earthengine-api>=0.1.304->geemap[lidar]) (3.20.1)\n",
      "Requirement already satisfied: googleapis-common-protos<2.0dev,>=1.6.0 in c:\\users\\ikuta\\miniconda3\\envs\\gee\\lib\\site-packages (from google-api-core<2dev,>=1.21.0->google-api-python-client<2,>=1.12.1->earthengine-api>=0.1.304->geemap[lidar]) (1.56.3)\n",
      "Requirement already satisfied: google-crc32c<2.0dev,>=1.0 in c:\\users\\ikuta\\miniconda3\\envs\\gee\\lib\\site-packages (from google-resumable-media>=0.3.1->google-cloud-storage->earthengine-api>=0.1.304->geemap[lidar]) (1.1.2)\n",
      "Requirement already satisfied: nest-asyncio in c:\\users\\ikuta\\miniconda3\\envs\\gee\\lib\\site-packages (from ipykernel>=4.5.1->ipywidgets->ipyfilechooser>=0.6.0->geemap[lidar]) (1.5.5)\n",
      "Requirement already satisfied: psutil in c:\\users\\ikuta\\miniconda3\\envs\\gee\\lib\\site-packages (from ipykernel>=4.5.1->ipywidgets->ipyfilechooser>=0.6.0->geemap[lidar]) (5.9.1)\n",
      "Requirement already satisfied: debugpy>=1.0 in c:\\users\\ikuta\\miniconda3\\envs\\gee\\lib\\site-packages (from ipykernel>=4.5.1->ipywidgets->ipyfilechooser>=0.6.0->geemap[lidar]) (1.6.0)\n",
      "Requirement already satisfied: parso<0.9.0,>=0.8.0 in c:\\users\\ikuta\\miniconda3\\envs\\gee\\lib\\site-packages (from jedi>=0.16->ipython->jupyterlab>=3->geemap[lidar]) (0.8.3)\n",
      "Requirement already satisfied: pyrsistent!=0.17.0,!=0.17.1,!=0.17.2,>=0.14.0 in c:\\users\\ikuta\\miniconda3\\envs\\gee\\lib\\site-packages (from jsonschema>=3.0.1->jupyterlab-server~=2.10->jupyterlab>=3->geemap[lidar]) (0.18.1)\n",
      "Requirement already satisfied: attrs>=17.4.0 in c:\\users\\ikuta\\miniconda3\\envs\\gee\\lib\\site-packages (from jsonschema>=3.0.1->jupyterlab-server~=2.10->jupyterlab>=3->geemap[lidar]) (21.4.0)\n",
      "Requirement already satisfied: entrypoints in c:\\users\\ikuta\\miniconda3\\envs\\gee\\lib\\site-packages (from jupyter-client>=6.1.12->jupyter-server~=1.16->jupyterlab>=3->geemap[lidar]) (0.4)\n",
      "Requirement already satisfied: nbclient>=0.5.0 in c:\\users\\ikuta\\miniconda3\\envs\\gee\\lib\\site-packages (from nbconvert>=6.4.4->jupyter-server~=1.16->jupyterlab>=3->geemap[lidar]) (0.6.6)\n",
      "Requirement already satisfied: mistune<2,>=0.8.1 in c:\\users\\ikuta\\miniconda3\\envs\\gee\\lib\\site-packages (from nbconvert>=6.4.4->jupyter-server~=1.16->jupyterlab>=3->geemap[lidar]) (0.8.4)\n",
      "Requirement already satisfied: pandocfilters>=1.4.1 in c:\\users\\ikuta\\miniconda3\\envs\\gee\\lib\\site-packages (from nbconvert>=6.4.4->jupyter-server~=1.16->jupyterlab>=3->geemap[lidar]) (1.5.0)\n",
      "Requirement already satisfied: defusedxml in c:\\users\\ikuta\\miniconda3\\envs\\gee\\lib\\site-packages (from nbconvert>=6.4.4->jupyter-server~=1.16->jupyterlab>=3->geemap[lidar]) (0.7.1)\n",
      "Requirement already satisfied: tinycss2 in c:\\users\\ikuta\\miniconda3\\envs\\gee\\lib\\site-packages (from nbconvert>=6.4.4->jupyter-server~=1.16->jupyterlab>=3->geemap[lidar]) (1.1.1)\n",
      "Requirement already satisfied: jupyterlab-pygments in c:\\users\\ikuta\\miniconda3\\envs\\gee\\lib\\site-packages (from nbconvert>=6.4.4->jupyter-server~=1.16->jupyterlab>=3->geemap[lidar]) (0.2.2)\n",
      "Requirement already satisfied: fastjsonschema in c:\\users\\ikuta\\miniconda3\\envs\\gee\\lib\\site-packages (from nbformat>=5.2.0->jupyter-server~=1.16->jupyterlab>=3->geemap[lidar]) (2.15.3)\n",
      "Requirement already satisfied: wcwidth in c:\\users\\ikuta\\miniconda3\\envs\\gee\\lib\\site-packages (from prompt-toolkit!=3.0.0,!=3.0.1,<3.1.0,>=2.0.0->ipython->jupyterlab>=3->geemap[lidar]) (0.2.5)\n",
      "Requirement already satisfied: pyasn1<0.5.0,>=0.4.6 in c:\\users\\ikuta\\miniconda3\\envs\\gee\\lib\\site-packages (from pyasn1-modules>=0.2.1->google-auth>=1.4.1->earthengine-api>=0.1.304->geemap[lidar]) (0.4.8)\n",
      "Requirement already satisfied: aiohttp<4 in c:\\users\\ikuta\\miniconda3\\envs\\gee\\lib\\site-packages (from wslink>=1.0.4->vtk->pyvista->geemap[lidar]) (3.8.1)\n",
      "Requirement already satisfied: argon2-cffi-bindings in c:\\users\\ikuta\\miniconda3\\envs\\gee\\lib\\site-packages (from argon2-cffi->jupyter-server~=1.16->jupyterlab>=3->geemap[lidar]) (21.2.0)\n",
      "Requirement already satisfied: executing in c:\\users\\ikuta\\miniconda3\\envs\\gee\\lib\\site-packages (from stack-data->ipython->jupyterlab>=3->geemap[lidar]) (0.8.3)\n",
      "Requirement already satisfied: pure-eval in c:\\users\\ikuta\\miniconda3\\envs\\gee\\lib\\site-packages (from stack-data->ipython->jupyterlab>=3->geemap[lidar]) (0.2.2)\n",
      "Requirement already satisfied: asttokens in c:\\users\\ikuta\\miniconda3\\envs\\gee\\lib\\site-packages (from stack-data->ipython->jupyterlab>=3->geemap[lidar]) (2.0.5)\n",
      "Requirement already satisfied: frozenlist>=1.1.1 in c:\\users\\ikuta\\miniconda3\\envs\\gee\\lib\\site-packages (from aiohttp<4->wslink>=1.0.4->vtk->pyvista->geemap[lidar]) (1.3.0)\n",
      "Requirement already satisfied: async-timeout<5.0,>=4.0.0a3 in c:\\users\\ikuta\\miniconda3\\envs\\gee\\lib\\site-packages (from aiohttp<4->wslink>=1.0.4->vtk->pyvista->geemap[lidar]) (4.0.2)\n",
      "Requirement already satisfied: aiosignal>=1.1.2 in c:\\users\\ikuta\\miniconda3\\envs\\gee\\lib\\site-packages (from aiohttp<4->wslink>=1.0.4->vtk->pyvista->geemap[lidar]) (1.2.0)\n",
      "Requirement already satisfied: yarl<2.0,>=1.0 in c:\\users\\ikuta\\miniconda3\\envs\\gee\\lib\\site-packages (from aiohttp<4->wslink>=1.0.4->vtk->pyvista->geemap[lidar]) (1.7.2)\n",
      "Requirement already satisfied: multidict<7.0,>=4.5 in c:\\users\\ikuta\\miniconda3\\envs\\gee\\lib\\site-packages (from aiohttp<4->wslink>=1.0.4->vtk->pyvista->geemap[lidar]) (6.0.2)\n",
      "Requirement already satisfied: cffi>=1.0.0 in c:\\users\\ikuta\\miniconda3\\envs\\gee\\lib\\site-packages (from google-crc32c<2.0dev,>=1.0->google-resumable-media>=0.3.1->google-cloud-storage->earthengine-api>=0.1.304->geemap[lidar]) (1.15.0)\n",
      "Requirement already satisfied: pycparser in c:\\users\\ikuta\\miniconda3\\envs\\gee\\lib\\site-packages (from cffi>=1.0.0->google-crc32c<2.0dev,>=1.0->google-resumable-media>=0.3.1->google-cloud-storage->earthengine-api>=0.1.304->geemap[lidar]) (2.21)\n"
     ]
    },
    {
     "name": "stderr",
     "output_type": "stream",
     "text": [
      "ERROR: Could not find a version that satisfies the requirement open3d (from versions: none)\n",
      "ERROR: No matching distribution found for open3d\n"
     ]
    }
   ],
   "source": [
    "\n",
    "!pip install geemap[lidar]\n",
    "!pip install open3d\n"
   ]
  },
  {
   "cell_type": "code",
   "execution_count": 2,
   "metadata": {},
   "outputs": [],
   "source": [
    "import os\n",
    "import geemap"
   ]
  },
  {
   "cell_type": "markdown",
   "metadata": {},
   "source": [
    "Download a [sample LiDAR dataset](https://drive.google.com/file/d/1H_X1190vL63BoFYa_cVBDxtIa8rG-Usb/view?usp=sharing) from Google Drive. The zip file is 52.1 MB and the uncompressed LAS file is 109 MB."
   ]
  },
  {
   "cell_type": "code",
   "execution_count": 3,
   "metadata": {},
   "outputs": [],
   "source": [
    "url = (\n",
    "    'https://drive.google.com/file/d/1H_X1190vL63BoFYa_cVBDxtIa8rG-Usb/view?usp=sharing'\n",
    ")\n",
    "filename = 'madison.las'"
   ]
  },
  {
   "cell_type": "code",
   "execution_count": 4,
   "metadata": {},
   "outputs": [],
   "source": [
    "if not os.path.exists(filename):\n",
    "    geemap.download_file(url, 'madison.zip', unzip=True)"
   ]
  },
  {
   "cell_type": "markdown",
   "metadata": {},
   "source": [
    "Read the LiDAR data"
   ]
  },
  {
   "cell_type": "code",
   "execution_count": 5,
   "metadata": {},
   "outputs": [],
   "source": [
    "las = geemap.read_lidar(filename)"
   ]
  },
  {
   "cell_type": "markdown",
   "metadata": {},
   "source": [
    "The LAS header."
   ]
  },
  {
   "cell_type": "code",
   "execution_count": 6,
   "metadata": {},
   "outputs": [
    {
     "data": {
      "text/plain": [
       "<LasHeader(1.3, <PointFormat(1, 0 bytes of extra dims)>)>"
      ]
     },
     "execution_count": 6,
     "metadata": {},
     "output_type": "execute_result"
    }
   ],
   "source": [
    "las.header"
   ]
  },
  {
   "cell_type": "markdown",
   "metadata": {},
   "source": [
    "The number of points."
   ]
  },
  {
   "cell_type": "code",
   "execution_count": 7,
   "metadata": {},
   "outputs": [
    {
     "data": {
      "text/plain": [
       "4068294"
      ]
     },
     "execution_count": 7,
     "metadata": {},
     "output_type": "execute_result"
    }
   ],
   "source": [
    "las.header.point_count"
   ]
  },
  {
   "cell_type": "markdown",
   "metadata": {},
   "source": [
    "The list of features."
   ]
  },
  {
   "cell_type": "code",
   "execution_count": 8,
   "metadata": {},
   "outputs": [
    {
     "data": {
      "text/plain": [
       "['X',\n",
       " 'Y',\n",
       " 'Z',\n",
       " 'intensity',\n",
       " 'return_number',\n",
       " 'number_of_returns',\n",
       " 'scan_direction_flag',\n",
       " 'edge_of_flight_line',\n",
       " 'classification',\n",
       " 'synthetic',\n",
       " 'key_point',\n",
       " 'withheld',\n",
       " 'scan_angle_rank',\n",
       " 'user_data',\n",
       " 'point_source_id',\n",
       " 'gps_time']"
      ]
     },
     "execution_count": 8,
     "metadata": {},
     "output_type": "execute_result"
    }
   ],
   "source": [
    "list(las.point_format.dimension_names)"
   ]
  },
  {
   "cell_type": "markdown",
   "metadata": {},
   "source": [
    "Inspect data."
   ]
  },
  {
   "cell_type": "code",
   "execution_count": 9,
   "metadata": {},
   "outputs": [
    {
     "data": {
      "text/plain": [
       "array([5324343, 5324296, 5323993, ..., 5784049, 5784359, 5784667])"
      ]
     },
     "execution_count": 9,
     "metadata": {},
     "output_type": "execute_result"
    }
   ],
   "source": [
    "las.X"
   ]
  },
  {
   "cell_type": "code",
   "execution_count": 10,
   "metadata": {},
   "outputs": [
    {
     "data": {
      "text/plain": [
       "array([8035264, 8035347, 8035296, ..., 7550110, 7550066, 7550026])"
      ]
     },
     "execution_count": 10,
     "metadata": {},
     "output_type": "execute_result"
    }
   ],
   "source": [
    "las.Y"
   ]
  },
  {
   "cell_type": "code",
   "execution_count": 11,
   "metadata": {},
   "outputs": [
    {
     "data": {
      "text/plain": [
       "array([36696, 34835, 34826, ..., 36839, 36858, 36842])"
      ]
     },
     "execution_count": 11,
     "metadata": {},
     "output_type": "execute_result"
    }
   ],
   "source": [
    "las.Z"
   ]
  },
  {
   "cell_type": "code",
   "execution_count": 12,
   "metadata": {},
   "outputs": [
    {
     "data": {
      "text/plain": [
       "array([ 9, 41, 24, ..., 87, 80, 95], dtype=uint16)"
      ]
     },
     "execution_count": 12,
     "metadata": {},
     "output_type": "execute_result"
    }
   ],
   "source": [
    "las.intensity"
   ]
  },
  {
   "cell_type": "markdown",
   "metadata": {},
   "source": [
    "Visualize LiDAR data using the [pyvista](https://github.com/pyvista/pyvista) backend. "
   ]
  },
  {
   "cell_type": "code",
   "execution_count": 14,
   "metadata": {},
   "outputs": [
    {
     "data": {
      "application/vnd.jupyter.widget-view+json": {
       "model_id": "219e5507e5784bba9413c8dc5dba7615",
       "version_major": 2,
       "version_minor": 0
      },
      "text/plain": [
       "ViewInteractiveWidget(height=768, layout=Layout(height='auto', width='100%'), width=1024)"
      ]
     },
     "metadata": {},
     "output_type": "display_data"
    }
   ],
   "source": [
    "geemap.view_lidar(filename, cmap='terrain', backend='pyvista')"
   ]
  },
  {
   "cell_type": "markdown",
   "metadata": {},
   "source": [
    "![](https://i.imgur.com/xezcgMP.gif)"
   ]
  },
  {
   "cell_type": "markdown",
   "metadata": {},
   "source": [
    "Visualize LiDAR data using the [ipygany](https://github.com/QuantStack/ipygany) backend."
   ]
  },
  {
   "cell_type": "code",
   "execution_count": 15,
   "metadata": {},
   "outputs": [
    {
     "data": {
      "application/vnd.jupyter.widget-view+json": {
       "model_id": "a192e15642c14aa092181ef50dd55651",
       "version_major": 2,
       "version_minor": 0
      },
      "text/plain": [
       "AppLayout(children=(VBox(children=(HTML(value='<h3>Elevation</h3>'), Dropdown(description='Colormap:', options…"
      ]
     },
     "metadata": {},
     "output_type": "display_data"
    }
   ],
   "source": [
    "geemap.view_lidar(filename, backend='ipygany', background='white')"
   ]
  },
  {
   "cell_type": "markdown",
   "metadata": {},
   "source": [
    "![](https://i.imgur.com/MyMWW4I.gif)"
   ]
  },
  {
   "cell_type": "markdown",
   "metadata": {},
   "source": [
    "Visualize LiDAR data using the [panel](https://github.com/holoviz/panel) backend."
   ]
  },
  {
   "cell_type": "code",
   "execution_count": null,
   "metadata": {},
   "outputs": [
    {
     "data": {
      "application/javascript": [
       "(function(root) {\n",
       "  function now() {\n",
       "    return new Date();\n",
       "  }\n",
       "\n",
       "  var force = true;\n",
       "\n",
       "  if (typeof root._bokeh_onload_callbacks === \"undefined\" || force === true) {\n",
       "    root._bokeh_onload_callbacks = [];\n",
       "    root._bokeh_is_loading = undefined;\n",
       "  }\n",
       "\n",
       "  if (typeof (root._bokeh_timeout) === \"undefined\" || force === true) {\n",
       "    root._bokeh_timeout = Date.now() + 5000;\n",
       "    root._bokeh_failed_load = false;\n",
       "  }\n",
       "\n",
       "  function run_callbacks() {\n",
       "    try {\n",
       "      root._bokeh_onload_callbacks.forEach(function(callback) {\n",
       "        if (callback != null)\n",
       "          callback();\n",
       "      });\n",
       "    } finally {\n",
       "      delete root._bokeh_onload_callbacks\n",
       "    }\n",
       "    console.debug(\"Bokeh: all callbacks have finished\");\n",
       "  }\n",
       "\n",
       "  function load_libs(css_urls, js_urls, js_modules, callback) {\n",
       "    if (css_urls == null) css_urls = [];\n",
       "    if (js_urls == null) js_urls = [];\n",
       "    if (js_modules == null) js_modules = [];\n",
       "\n",
       "    root._bokeh_onload_callbacks.push(callback);\n",
       "    if (root._bokeh_is_loading > 0) {\n",
       "      console.debug(\"Bokeh: BokehJS is being loaded, scheduling callback at\", now());\n",
       "      return null;\n",
       "    }\n",
       "    if (js_urls.length === 0 && js_modules.length === 0) {\n",
       "      run_callbacks();\n",
       "      return null;\n",
       "    }\n",
       "    console.debug(\"Bokeh: BokehJS not loaded, scheduling load and callback at\", now());\n",
       "\n",
       "    function on_load() {\n",
       "      root._bokeh_is_loading--;\n",
       "      if (root._bokeh_is_loading === 0) {\n",
       "        console.debug(\"Bokeh: all BokehJS libraries/stylesheets loaded\");\n",
       "        run_callbacks()\n",
       "      }\n",
       "    }\n",
       "\n",
       "    function on_error() {\n",
       "      console.error(\"failed to load \" + url);\n",
       "    }\n",
       "\n",
       "    for (var i = 0; i < css_urls.length; i++) {\n",
       "      var url = css_urls[i];\n",
       "      const element = document.createElement(\"link\");\n",
       "      element.onload = on_load;\n",
       "      element.onerror = on_error;\n",
       "      element.rel = \"stylesheet\";\n",
       "      element.type = \"text/css\";\n",
       "      element.href = url;\n",
       "      console.debug(\"Bokeh: injecting link tag for BokehJS stylesheet: \", url);\n",
       "      document.body.appendChild(element);\n",
       "    }\n",
       "\n",
       "    var skip = [];\n",
       "    if (window.requirejs) {\n",
       "      window.requirejs.config({'packages': {}, 'paths': {'vtk': 'https://unpkg.com/vtk.js@20.0.1/vtk', 'gridstack': 'https://cdn.jsdelivr.net/npm/gridstack@4.2.5/dist/gridstack-h5', 'notyf': 'https://cdn.jsdelivr.net/npm/notyf@3/notyf.min'}, 'shim': {'vtk': {'exports': 'vtk'}, 'gridstack': {'exports': 'GridStack'}}});\n",
       "      require([\"vtk\"], function() {\n",
       "\ton_load()\n",
       "      })\n",
       "      require([\"gridstack\"], function(GridStack) {\n",
       "\twindow.GridStack = GridStack\n",
       "\ton_load()\n",
       "      })\n",
       "      require([\"notyf\"], function() {\n",
       "\ton_load()\n",
       "      })\n",
       "      root._bokeh_is_loading = css_urls.length + 3;\n",
       "    } else {\n",
       "      root._bokeh_is_loading = css_urls.length + js_urls.length + js_modules.length;\n",
       "    }    if (((window['vtk'] !== undefined) && (!(window['vtk'] instanceof HTMLElement))) || window.requirejs) {\n",
       "      var urls = ['https://unpkg.com/vtk.js@20.0.1/vtk.js'];\n",
       "      for (var i = 0; i < urls.length; i++) {\n",
       "        skip.push(urls[i])\n",
       "      }\n",
       "    }    if (((window['GridStack'] !== undefined) && (!(window['GridStack'] instanceof HTMLElement))) || window.requirejs) {\n",
       "      var urls = ['https://cdn.jsdelivr.net/npm/gridstack@4.2.5/dist/gridstack-h5.js'];\n",
       "      for (var i = 0; i < urls.length; i++) {\n",
       "        skip.push(urls[i])\n",
       "      }\n",
       "    }    if (((window['Notyf'] !== undefined) && (!(window['Notyf'] instanceof HTMLElement))) || window.requirejs) {\n",
       "      var urls = ['https://cdn.jsdelivr.net/npm/notyf@3/notyf.min.js'];\n",
       "      for (var i = 0; i < urls.length; i++) {\n",
       "        skip.push(urls[i])\n",
       "      }\n",
       "    }    for (var i = 0; i < js_urls.length; i++) {\n",
       "      var url = js_urls[i];\n",
       "      if (skip.indexOf(url) >= 0) {\n",
       "\tif (!window.requirejs) {\n",
       "\t  on_load();\n",
       "\t}\n",
       "\tcontinue;\n",
       "      }\n",
       "      var element = document.createElement('script');\n",
       "      element.onload = on_load;\n",
       "      element.onerror = on_error;\n",
       "      element.async = false;\n",
       "      element.src = url;\n",
       "      console.debug(\"Bokeh: injecting script tag for BokehJS library: \", url);\n",
       "      document.head.appendChild(element);\n",
       "    }\n",
       "    for (var i = 0; i < js_modules.length; i++) {\n",
       "      var url = js_modules[i];\n",
       "      if (skip.indexOf(url) >= 0) {\n",
       "\tif (!window.requirejs) {\n",
       "\t  on_load();\n",
       "\t}\n",
       "\tcontinue;\n",
       "      }\n",
       "      var element = document.createElement('script');\n",
       "      element.onload = on_load;\n",
       "      element.onerror = on_error;\n",
       "      element.async = false;\n",
       "      element.src = url;\n",
       "      element.type = \"module\";\n",
       "      console.debug(\"Bokeh: injecting script tag for BokehJS library: \", url);\n",
       "      document.head.appendChild(element);\n",
       "    }\n",
       "    if (!js_urls.length && !js_modules.length) {\n",
       "      on_load()\n",
       "    }\n",
       "  };\n",
       "\n",
       "  function inject_raw_css(css) {\n",
       "    const element = document.createElement(\"style\");\n",
       "    element.appendChild(document.createTextNode(css));\n",
       "    document.body.appendChild(element);\n",
       "  }\n",
       "\n",
       "  var js_urls = [\"https://unpkg.com/vtk.js@20.0.1/vtk.js\", \"https://cdn.bokeh.org/bokeh/release/bokeh-2.4.3.min.js\", \"https://cdn.bokeh.org/bokeh/release/bokeh-gl-2.4.3.min.js\", \"https://cdn.bokeh.org/bokeh/release/bokeh-widgets-2.4.3.min.js\", \"https://cdn.bokeh.org/bokeh/release/bokeh-tables-2.4.3.min.js\", \"https://cdn.bokeh.org/bokeh/release/bokeh-mathjax-2.4.3.min.js\", \"https://cdn.jsdelivr.net/npm/notyf@3/notyf.min.js\", \"https://unpkg.com/@holoviz/panel@0.13.1/dist/panel.min.js\"];\n",
       "  var js_modules = [];\n",
       "  var css_urls = [\"https://cdn.jsdelivr.net/npm/notyf@3/notyf.min.css\", \"https://cdnjs.cloudflare.com/ajax/libs/font-awesome/5.15.1/css/all.min.css\", \"https://unpkg.com/@holoviz/panel@0.13.1/dist/css/alerts.css\", \"https://unpkg.com/@holoviz/panel@0.13.1/dist/css/card.css\", \"https://unpkg.com/@holoviz/panel@0.13.1/dist/css/dataframe.css\", \"https://unpkg.com/@holoviz/panel@0.13.1/dist/css/debugger.css\", \"https://unpkg.com/@holoviz/panel@0.13.1/dist/css/json.css\", \"https://unpkg.com/@holoviz/panel@0.13.1/dist/css/loading.css\", \"https://unpkg.com/@holoviz/panel@0.13.1/dist/css/markdown.css\", \"https://unpkg.com/@holoviz/panel@0.13.1/dist/css/widgets.css\"];\n",
       "  var inline_js = [    function(Bokeh) {\n",
       "      inject_raw_css(\"\\n    .bk.pn-loading.arcs:before {\\n      background-image: url(\\\"data:image/svg+xml;base64,PHN2ZyB4bWxucz0iaHR0cDovL3d3dy53My5vcmcvMjAwMC9zdmciIHhtbG5zOnhsaW5rPSJodHRwOi8vd3d3LnczLm9yZy8xOTk5L3hsaW5rIiBzdHlsZT0ibWFyZ2luOiBhdXRvOyBiYWNrZ3JvdW5kOiBub25lOyBkaXNwbGF5OiBibG9jazsgc2hhcGUtcmVuZGVyaW5nOiBhdXRvOyIgdmlld0JveD0iMCAwIDEwMCAxMDAiIHByZXNlcnZlQXNwZWN0UmF0aW89InhNaWRZTWlkIj4gIDxjaXJjbGUgY3g9IjUwIiBjeT0iNTAiIHI9IjMyIiBzdHJva2Utd2lkdGg9IjgiIHN0cm9rZT0iI2MzYzNjMyIgc3Ryb2tlLWRhc2hhcnJheT0iNTAuMjY1NDgyNDU3NDM2NjkgNTAuMjY1NDgyNDU3NDM2NjkiIGZpbGw9Im5vbmUiIHN0cm9rZS1saW5lY2FwPSJyb3VuZCI+ICAgIDxhbmltYXRlVHJhbnNmb3JtIGF0dHJpYnV0ZU5hbWU9InRyYW5zZm9ybSIgdHlwZT0icm90YXRlIiByZXBlYXRDb3VudD0iaW5kZWZpbml0ZSIgZHVyPSIxcyIga2V5VGltZXM9IjA7MSIgdmFsdWVzPSIwIDUwIDUwOzM2MCA1MCA1MCI+PC9hbmltYXRlVHJhbnNmb3JtPiAgPC9jaXJjbGU+PC9zdmc+\\\");\\n      background-size: auto calc(min(50%, 400px));\\n    }\\n    \");\n",
       "    },    function(Bokeh) {\n",
       "      Bokeh.set_log_level(\"info\");\n",
       "    },\n",
       "function(Bokeh) {} // ensure no trailing comma for IE\n",
       "  ];\n",
       "\n",
       "  function run_inline_js() {\n",
       "    if ((root.Bokeh !== undefined) || (force === true)) {\n",
       "      for (var i = 0; i < inline_js.length; i++) {\n",
       "        inline_js[i].call(root, root.Bokeh);\n",
       "      }} else if (Date.now() < root._bokeh_timeout) {\n",
       "      setTimeout(run_inline_js, 100);\n",
       "    } else if (!root._bokeh_failed_load) {\n",
       "      console.log(\"Bokeh: BokehJS failed to load within specified timeout.\");\n",
       "      root._bokeh_failed_load = true;\n",
       "    }\n",
       "  }\n",
       "\n",
       "  if (root._bokeh_is_loading === 0) {\n",
       "    console.debug(\"Bokeh: BokehJS loaded, going straight to plotting\");\n",
       "    run_inline_js();\n",
       "  } else {\n",
       "    load_libs(css_urls, js_urls, js_modules, function() {\n",
       "      console.debug(\"Bokeh: BokehJS plotting callback run at\", now());\n",
       "      run_inline_js();\n",
       "    });\n",
       "  }\n",
       "}(window));"
      ],
      "application/vnd.holoviews_load.v0+json": "(function(root) {\n  function now() {\n    return new Date();\n  }\n\n  var force = true;\n\n  if (typeof root._bokeh_onload_callbacks === \"undefined\" || force === true) {\n    root._bokeh_onload_callbacks = [];\n    root._bokeh_is_loading = undefined;\n  }\n\n  if (typeof (root._bokeh_timeout) === \"undefined\" || force === true) {\n    root._bokeh_timeout = Date.now() + 5000;\n    root._bokeh_failed_load = false;\n  }\n\n  function run_callbacks() {\n    try {\n      root._bokeh_onload_callbacks.forEach(function(callback) {\n        if (callback != null)\n          callback();\n      });\n    } finally {\n      delete root._bokeh_onload_callbacks\n    }\n    console.debug(\"Bokeh: all callbacks have finished\");\n  }\n\n  function load_libs(css_urls, js_urls, js_modules, callback) {\n    if (css_urls == null) css_urls = [];\n    if (js_urls == null) js_urls = [];\n    if (js_modules == null) js_modules = [];\n\n    root._bokeh_onload_callbacks.push(callback);\n    if (root._bokeh_is_loading > 0) {\n      console.debug(\"Bokeh: BokehJS is being loaded, scheduling callback at\", now());\n      return null;\n    }\n    if (js_urls.length === 0 && js_modules.length === 0) {\n      run_callbacks();\n      return null;\n    }\n    console.debug(\"Bokeh: BokehJS not loaded, scheduling load and callback at\", now());\n\n    function on_load() {\n      root._bokeh_is_loading--;\n      if (root._bokeh_is_loading === 0) {\n        console.debug(\"Bokeh: all BokehJS libraries/stylesheets loaded\");\n        run_callbacks()\n      }\n    }\n\n    function on_error() {\n      console.error(\"failed to load \" + url);\n    }\n\n    for (var i = 0; i < css_urls.length; i++) {\n      var url = css_urls[i];\n      const element = document.createElement(\"link\");\n      element.onload = on_load;\n      element.onerror = on_error;\n      element.rel = \"stylesheet\";\n      element.type = \"text/css\";\n      element.href = url;\n      console.debug(\"Bokeh: injecting link tag for BokehJS stylesheet: \", url);\n      document.body.appendChild(element);\n    }\n\n    var skip = [];\n    if (window.requirejs) {\n      window.requirejs.config({'packages': {}, 'paths': {'vtk': 'https://unpkg.com/vtk.js@20.0.1/vtk', 'gridstack': 'https://cdn.jsdelivr.net/npm/gridstack@4.2.5/dist/gridstack-h5', 'notyf': 'https://cdn.jsdelivr.net/npm/notyf@3/notyf.min'}, 'shim': {'vtk': {'exports': 'vtk'}, 'gridstack': {'exports': 'GridStack'}}});\n      require([\"vtk\"], function() {\n\ton_load()\n      })\n      require([\"gridstack\"], function(GridStack) {\n\twindow.GridStack = GridStack\n\ton_load()\n      })\n      require([\"notyf\"], function() {\n\ton_load()\n      })\n      root._bokeh_is_loading = css_urls.length + 3;\n    } else {\n      root._bokeh_is_loading = css_urls.length + js_urls.length + js_modules.length;\n    }    if (((window['vtk'] !== undefined) && (!(window['vtk'] instanceof HTMLElement))) || window.requirejs) {\n      var urls = ['https://unpkg.com/vtk.js@20.0.1/vtk.js'];\n      for (var i = 0; i < urls.length; i++) {\n        skip.push(urls[i])\n      }\n    }    if (((window['GridStack'] !== undefined) && (!(window['GridStack'] instanceof HTMLElement))) || window.requirejs) {\n      var urls = ['https://cdn.jsdelivr.net/npm/gridstack@4.2.5/dist/gridstack-h5.js'];\n      for (var i = 0; i < urls.length; i++) {\n        skip.push(urls[i])\n      }\n    }    if (((window['Notyf'] !== undefined) && (!(window['Notyf'] instanceof HTMLElement))) || window.requirejs) {\n      var urls = ['https://cdn.jsdelivr.net/npm/notyf@3/notyf.min.js'];\n      for (var i = 0; i < urls.length; i++) {\n        skip.push(urls[i])\n      }\n    }    for (var i = 0; i < js_urls.length; i++) {\n      var url = js_urls[i];\n      if (skip.indexOf(url) >= 0) {\n\tif (!window.requirejs) {\n\t  on_load();\n\t}\n\tcontinue;\n      }\n      var element = document.createElement('script');\n      element.onload = on_load;\n      element.onerror = on_error;\n      element.async = false;\n      element.src = url;\n      console.debug(\"Bokeh: injecting script tag for BokehJS library: \", url);\n      document.head.appendChild(element);\n    }\n    for (var i = 0; i < js_modules.length; i++) {\n      var url = js_modules[i];\n      if (skip.indexOf(url) >= 0) {\n\tif (!window.requirejs) {\n\t  on_load();\n\t}\n\tcontinue;\n      }\n      var element = document.createElement('script');\n      element.onload = on_load;\n      element.onerror = on_error;\n      element.async = false;\n      element.src = url;\n      element.type = \"module\";\n      console.debug(\"Bokeh: injecting script tag for BokehJS library: \", url);\n      document.head.appendChild(element);\n    }\n    if (!js_urls.length && !js_modules.length) {\n      on_load()\n    }\n  };\n\n  function inject_raw_css(css) {\n    const element = document.createElement(\"style\");\n    element.appendChild(document.createTextNode(css));\n    document.body.appendChild(element);\n  }\n\n  var js_urls = [\"https://unpkg.com/vtk.js@20.0.1/vtk.js\", \"https://cdn.bokeh.org/bokeh/release/bokeh-2.4.3.min.js\", \"https://cdn.bokeh.org/bokeh/release/bokeh-gl-2.4.3.min.js\", \"https://cdn.bokeh.org/bokeh/release/bokeh-widgets-2.4.3.min.js\", \"https://cdn.bokeh.org/bokeh/release/bokeh-tables-2.4.3.min.js\", \"https://cdn.bokeh.org/bokeh/release/bokeh-mathjax-2.4.3.min.js\", \"https://cdn.jsdelivr.net/npm/notyf@3/notyf.min.js\", \"https://unpkg.com/@holoviz/panel@0.13.1/dist/panel.min.js\"];\n  var js_modules = [];\n  var css_urls = [\"https://cdn.jsdelivr.net/npm/notyf@3/notyf.min.css\", \"https://cdnjs.cloudflare.com/ajax/libs/font-awesome/5.15.1/css/all.min.css\", \"https://unpkg.com/@holoviz/panel@0.13.1/dist/css/alerts.css\", \"https://unpkg.com/@holoviz/panel@0.13.1/dist/css/card.css\", \"https://unpkg.com/@holoviz/panel@0.13.1/dist/css/dataframe.css\", \"https://unpkg.com/@holoviz/panel@0.13.1/dist/css/debugger.css\", \"https://unpkg.com/@holoviz/panel@0.13.1/dist/css/json.css\", \"https://unpkg.com/@holoviz/panel@0.13.1/dist/css/loading.css\", \"https://unpkg.com/@holoviz/panel@0.13.1/dist/css/markdown.css\", \"https://unpkg.com/@holoviz/panel@0.13.1/dist/css/widgets.css\"];\n  var inline_js = [    function(Bokeh) {\n      inject_raw_css(\"\\n    .bk.pn-loading.arcs:before {\\n      background-image: url(\\\"data:image/svg+xml;base64,PHN2ZyB4bWxucz0iaHR0cDovL3d3dy53My5vcmcvMjAwMC9zdmciIHhtbG5zOnhsaW5rPSJodHRwOi8vd3d3LnczLm9yZy8xOTk5L3hsaW5rIiBzdHlsZT0ibWFyZ2luOiBhdXRvOyBiYWNrZ3JvdW5kOiBub25lOyBkaXNwbGF5OiBibG9jazsgc2hhcGUtcmVuZGVyaW5nOiBhdXRvOyIgdmlld0JveD0iMCAwIDEwMCAxMDAiIHByZXNlcnZlQXNwZWN0UmF0aW89InhNaWRZTWlkIj4gIDxjaXJjbGUgY3g9IjUwIiBjeT0iNTAiIHI9IjMyIiBzdHJva2Utd2lkdGg9IjgiIHN0cm9rZT0iI2MzYzNjMyIgc3Ryb2tlLWRhc2hhcnJheT0iNTAuMjY1NDgyNDU3NDM2NjkgNTAuMjY1NDgyNDU3NDM2NjkiIGZpbGw9Im5vbmUiIHN0cm9rZS1saW5lY2FwPSJyb3VuZCI+ICAgIDxhbmltYXRlVHJhbnNmb3JtIGF0dHJpYnV0ZU5hbWU9InRyYW5zZm9ybSIgdHlwZT0icm90YXRlIiByZXBlYXRDb3VudD0iaW5kZWZpbml0ZSIgZHVyPSIxcyIga2V5VGltZXM9IjA7MSIgdmFsdWVzPSIwIDUwIDUwOzM2MCA1MCA1MCI+PC9hbmltYXRlVHJhbnNmb3JtPiAgPC9jaXJjbGU+PC9zdmc+\\\");\\n      background-size: auto calc(min(50%, 400px));\\n    }\\n    \");\n    },    function(Bokeh) {\n      Bokeh.set_log_level(\"info\");\n    },\nfunction(Bokeh) {} // ensure no trailing comma for IE\n  ];\n\n  function run_inline_js() {\n    if ((root.Bokeh !== undefined) || (force === true)) {\n      for (var i = 0; i < inline_js.length; i++) {\n        inline_js[i].call(root, root.Bokeh);\n      }} else if (Date.now() < root._bokeh_timeout) {\n      setTimeout(run_inline_js, 100);\n    } else if (!root._bokeh_failed_load) {\n      console.log(\"Bokeh: BokehJS failed to load within specified timeout.\");\n      root._bokeh_failed_load = true;\n    }\n  }\n\n  if (root._bokeh_is_loading === 0) {\n    console.debug(\"Bokeh: BokehJS loaded, going straight to plotting\");\n    run_inline_js();\n  } else {\n    load_libs(css_urls, js_urls, js_modules, function() {\n      console.debug(\"Bokeh: BokehJS plotting callback run at\", now());\n      run_inline_js();\n    });\n  }\n}(window));"
     },
     "metadata": {},
     "output_type": "display_data"
    },
    {
     "data": {
      "application/javascript": [
       "\n",
       "if ((window.PyViz === undefined) || (window.PyViz instanceof HTMLElement)) {\n",
       "  window.PyViz = {comms: {}, comm_status:{}, kernels:{}, receivers: {}, plot_index: []}\n",
       "}\n",
       "\n",
       "\n",
       "    function JupyterCommManager() {\n",
       "    }\n",
       "\n",
       "    JupyterCommManager.prototype.register_target = function(plot_id, comm_id, msg_handler) {\n",
       "      if (window.comm_manager || ((window.Jupyter !== undefined) && (Jupyter.notebook.kernel != null))) {\n",
       "        var comm_manager = window.comm_manager || Jupyter.notebook.kernel.comm_manager;\n",
       "        comm_manager.register_target(comm_id, function(comm) {\n",
       "          comm.on_msg(msg_handler);\n",
       "        });\n",
       "      } else if ((plot_id in window.PyViz.kernels) && (window.PyViz.kernels[plot_id])) {\n",
       "        window.PyViz.kernels[plot_id].registerCommTarget(comm_id, function(comm) {\n",
       "          comm.onMsg = msg_handler;\n",
       "        });\n",
       "      } else if (typeof google != 'undefined' && google.colab.kernel != null) {\n",
       "        google.colab.kernel.comms.registerTarget(comm_id, (comm) => {\n",
       "          var messages = comm.messages[Symbol.asyncIterator]();\n",
       "          function processIteratorResult(result) {\n",
       "            var message = result.value;\n",
       "            console.log(message)\n",
       "            var content = {data: message.data, comm_id};\n",
       "            var buffers = []\n",
       "            for (var buffer of message.buffers || []) {\n",
       "              buffers.push(new DataView(buffer))\n",
       "            }\n",
       "            var metadata = message.metadata || {};\n",
       "            var msg = {content, buffers, metadata}\n",
       "            msg_handler(msg);\n",
       "            return messages.next().then(processIteratorResult);\n",
       "          }\n",
       "          return messages.next().then(processIteratorResult);\n",
       "        })\n",
       "      }\n",
       "    }\n",
       "\n",
       "    JupyterCommManager.prototype.get_client_comm = function(plot_id, comm_id, msg_handler) {\n",
       "      if (comm_id in window.PyViz.comms) {\n",
       "        return window.PyViz.comms[comm_id];\n",
       "      } else if (window.comm_manager || ((window.Jupyter !== undefined) && (Jupyter.notebook.kernel != null))) {\n",
       "        var comm_manager = window.comm_manager || Jupyter.notebook.kernel.comm_manager;\n",
       "        var comm = comm_manager.new_comm(comm_id, {}, {}, {}, comm_id);\n",
       "        if (msg_handler) {\n",
       "          comm.on_msg(msg_handler);\n",
       "        }\n",
       "      } else if ((plot_id in window.PyViz.kernels) && (window.PyViz.kernels[plot_id])) {\n",
       "        var comm = window.PyViz.kernels[plot_id].connectToComm(comm_id);\n",
       "        comm.open();\n",
       "        if (msg_handler) {\n",
       "          comm.onMsg = msg_handler;\n",
       "        }\n",
       "      } else if (typeof google != 'undefined' && google.colab.kernel != null) {\n",
       "        var comm_promise = google.colab.kernel.comms.open(comm_id)\n",
       "        comm_promise.then((comm) => {\n",
       "          window.PyViz.comms[comm_id] = comm;\n",
       "          if (msg_handler) {\n",
       "            var messages = comm.messages[Symbol.asyncIterator]();\n",
       "            function processIteratorResult(result) {\n",
       "              var message = result.value;\n",
       "              var content = {data: message.data};\n",
       "              var metadata = message.metadata || {comm_id};\n",
       "              var msg = {content, metadata}\n",
       "              msg_handler(msg);\n",
       "              return messages.next().then(processIteratorResult);\n",
       "            }\n",
       "            return messages.next().then(processIteratorResult);\n",
       "          }\n",
       "        }) \n",
       "        var sendClosure = (data, metadata, buffers, disposeOnDone) => {\n",
       "          return comm_promise.then((comm) => {\n",
       "            comm.send(data, metadata, buffers, disposeOnDone);\n",
       "          });\n",
       "        };\n",
       "        var comm = {\n",
       "          send: sendClosure\n",
       "        };\n",
       "      }\n",
       "      window.PyViz.comms[comm_id] = comm;\n",
       "      return comm;\n",
       "    }\n",
       "    window.PyViz.comm_manager = new JupyterCommManager();\n",
       "    \n",
       "\n",
       "\n",
       "var JS_MIME_TYPE = 'application/javascript';\n",
       "var HTML_MIME_TYPE = 'text/html';\n",
       "var EXEC_MIME_TYPE = 'application/vnd.holoviews_exec.v0+json';\n",
       "var CLASS_NAME = 'output';\n",
       "\n",
       "/**\n",
       " * Render data to the DOM node\n",
       " */\n",
       "function render(props, node) {\n",
       "  var div = document.createElement(\"div\");\n",
       "  var script = document.createElement(\"script\");\n",
       "  node.appendChild(div);\n",
       "  node.appendChild(script);\n",
       "}\n",
       "\n",
       "/**\n",
       " * Handle when a new output is added\n",
       " */\n",
       "function handle_add_output(event, handle) {\n",
       "  var output_area = handle.output_area;\n",
       "  var output = handle.output;\n",
       "  if ((output.data == undefined) || (!output.data.hasOwnProperty(EXEC_MIME_TYPE))) {\n",
       "    return\n",
       "  }\n",
       "  var id = output.metadata[EXEC_MIME_TYPE][\"id\"];\n",
       "  var toinsert = output_area.element.find(\".\" + CLASS_NAME.split(' ')[0]);\n",
       "  if (id !== undefined) {\n",
       "    var nchildren = toinsert.length;\n",
       "    var html_node = toinsert[nchildren-1].children[0];\n",
       "    html_node.innerHTML = output.data[HTML_MIME_TYPE];\n",
       "    var scripts = [];\n",
       "    var nodelist = html_node.querySelectorAll(\"script\");\n",
       "    for (var i in nodelist) {\n",
       "      if (nodelist.hasOwnProperty(i)) {\n",
       "        scripts.push(nodelist[i])\n",
       "      }\n",
       "    }\n",
       "\n",
       "    scripts.forEach( function (oldScript) {\n",
       "      var newScript = document.createElement(\"script\");\n",
       "      var attrs = [];\n",
       "      var nodemap = oldScript.attributes;\n",
       "      for (var j in nodemap) {\n",
       "        if (nodemap.hasOwnProperty(j)) {\n",
       "          attrs.push(nodemap[j])\n",
       "        }\n",
       "      }\n",
       "      attrs.forEach(function(attr) { newScript.setAttribute(attr.name, attr.value) });\n",
       "      newScript.appendChild(document.createTextNode(oldScript.innerHTML));\n",
       "      oldScript.parentNode.replaceChild(newScript, oldScript);\n",
       "    });\n",
       "    if (JS_MIME_TYPE in output.data) {\n",
       "      toinsert[nchildren-1].children[1].textContent = output.data[JS_MIME_TYPE];\n",
       "    }\n",
       "    output_area._hv_plot_id = id;\n",
       "    if ((window.Bokeh !== undefined) && (id in Bokeh.index)) {\n",
       "      window.PyViz.plot_index[id] = Bokeh.index[id];\n",
       "    } else {\n",
       "      window.PyViz.plot_index[id] = null;\n",
       "    }\n",
       "  } else if (output.metadata[EXEC_MIME_TYPE][\"server_id\"] !== undefined) {\n",
       "    var bk_div = document.createElement(\"div\");\n",
       "    bk_div.innerHTML = output.data[HTML_MIME_TYPE];\n",
       "    var script_attrs = bk_div.children[0].attributes;\n",
       "    for (var i = 0; i < script_attrs.length; i++) {\n",
       "      toinsert[toinsert.length - 1].childNodes[1].setAttribute(script_attrs[i].name, script_attrs[i].value);\n",
       "    }\n",
       "    // store reference to server id on output_area\n",
       "    output_area._bokeh_server_id = output.metadata[EXEC_MIME_TYPE][\"server_id\"];\n",
       "  }\n",
       "}\n",
       "\n",
       "/**\n",
       " * Handle when an output is cleared or removed\n",
       " */\n",
       "function handle_clear_output(event, handle) {\n",
       "  var id = handle.cell.output_area._hv_plot_id;\n",
       "  var server_id = handle.cell.output_area._bokeh_server_id;\n",
       "  if (((id === undefined) || !(id in PyViz.plot_index)) && (server_id !== undefined)) { return; }\n",
       "  var comm = window.PyViz.comm_manager.get_client_comm(\"hv-extension-comm\", \"hv-extension-comm\", function () {});\n",
       "  if (server_id !== null) {\n",
       "    comm.send({event_type: 'server_delete', 'id': server_id});\n",
       "    return;\n",
       "  } else if (comm !== null) {\n",
       "    comm.send({event_type: 'delete', 'id': id});\n",
       "  }\n",
       "  delete PyViz.plot_index[id];\n",
       "  if ((window.Bokeh !== undefined) & (id in window.Bokeh.index)) {\n",
       "    var doc = window.Bokeh.index[id].model.document\n",
       "    doc.clear();\n",
       "    const i = window.Bokeh.documents.indexOf(doc);\n",
       "    if (i > -1) {\n",
       "      window.Bokeh.documents.splice(i, 1);\n",
       "    }\n",
       "  }\n",
       "}\n",
       "\n",
       "/**\n",
       " * Handle kernel restart event\n",
       " */\n",
       "function handle_kernel_cleanup(event, handle) {\n",
       "  delete PyViz.comms[\"hv-extension-comm\"];\n",
       "  window.PyViz.plot_index = {}\n",
       "}\n",
       "\n",
       "/**\n",
       " * Handle update_display_data messages\n",
       " */\n",
       "function handle_update_output(event, handle) {\n",
       "  handle_clear_output(event, {cell: {output_area: handle.output_area}})\n",
       "  handle_add_output(event, handle)\n",
       "}\n",
       "\n",
       "function register_renderer(events, OutputArea) {\n",
       "  function append_mime(data, metadata, element) {\n",
       "    // create a DOM node to render to\n",
       "    var toinsert = this.create_output_subarea(\n",
       "    metadata,\n",
       "    CLASS_NAME,\n",
       "    EXEC_MIME_TYPE\n",
       "    );\n",
       "    this.keyboard_manager.register_events(toinsert);\n",
       "    // Render to node\n",
       "    var props = {data: data, metadata: metadata[EXEC_MIME_TYPE]};\n",
       "    render(props, toinsert[0]);\n",
       "    element.append(toinsert);\n",
       "    return toinsert\n",
       "  }\n",
       "\n",
       "  events.on('output_added.OutputArea', handle_add_output);\n",
       "  events.on('output_updated.OutputArea', handle_update_output);\n",
       "  events.on('clear_output.CodeCell', handle_clear_output);\n",
       "  events.on('delete.Cell', handle_clear_output);\n",
       "  events.on('kernel_ready.Kernel', handle_kernel_cleanup);\n",
       "\n",
       "  OutputArea.prototype.register_mime_type(EXEC_MIME_TYPE, append_mime, {\n",
       "    safe: true,\n",
       "    index: 0\n",
       "  });\n",
       "}\n",
       "\n",
       "if (window.Jupyter !== undefined) {\n",
       "  try {\n",
       "    var events = require('base/js/events');\n",
       "    var OutputArea = require('notebook/js/outputarea').OutputArea;\n",
       "    if (OutputArea.prototype.mime_types().indexOf(EXEC_MIME_TYPE) == -1) {\n",
       "      register_renderer(events, OutputArea);\n",
       "    }\n",
       "  } catch(err) {\n",
       "  }\n",
       "}\n"
      ],
      "application/vnd.holoviews_load.v0+json": "\nif ((window.PyViz === undefined) || (window.PyViz instanceof HTMLElement)) {\n  window.PyViz = {comms: {}, comm_status:{}, kernels:{}, receivers: {}, plot_index: []}\n}\n\n\n    function JupyterCommManager() {\n    }\n\n    JupyterCommManager.prototype.register_target = function(plot_id, comm_id, msg_handler) {\n      if (window.comm_manager || ((window.Jupyter !== undefined) && (Jupyter.notebook.kernel != null))) {\n        var comm_manager = window.comm_manager || Jupyter.notebook.kernel.comm_manager;\n        comm_manager.register_target(comm_id, function(comm) {\n          comm.on_msg(msg_handler);\n        });\n      } else if ((plot_id in window.PyViz.kernels) && (window.PyViz.kernels[plot_id])) {\n        window.PyViz.kernels[plot_id].registerCommTarget(comm_id, function(comm) {\n          comm.onMsg = msg_handler;\n        });\n      } else if (typeof google != 'undefined' && google.colab.kernel != null) {\n        google.colab.kernel.comms.registerTarget(comm_id, (comm) => {\n          var messages = comm.messages[Symbol.asyncIterator]();\n          function processIteratorResult(result) {\n            var message = result.value;\n            console.log(message)\n            var content = {data: message.data, comm_id};\n            var buffers = []\n            for (var buffer of message.buffers || []) {\n              buffers.push(new DataView(buffer))\n            }\n            var metadata = message.metadata || {};\n            var msg = {content, buffers, metadata}\n            msg_handler(msg);\n            return messages.next().then(processIteratorResult);\n          }\n          return messages.next().then(processIteratorResult);\n        })\n      }\n    }\n\n    JupyterCommManager.prototype.get_client_comm = function(plot_id, comm_id, msg_handler) {\n      if (comm_id in window.PyViz.comms) {\n        return window.PyViz.comms[comm_id];\n      } else if (window.comm_manager || ((window.Jupyter !== undefined) && (Jupyter.notebook.kernel != null))) {\n        var comm_manager = window.comm_manager || Jupyter.notebook.kernel.comm_manager;\n        var comm = comm_manager.new_comm(comm_id, {}, {}, {}, comm_id);\n        if (msg_handler) {\n          comm.on_msg(msg_handler);\n        }\n      } else if ((plot_id in window.PyViz.kernels) && (window.PyViz.kernels[plot_id])) {\n        var comm = window.PyViz.kernels[plot_id].connectToComm(comm_id);\n        comm.open();\n        if (msg_handler) {\n          comm.onMsg = msg_handler;\n        }\n      } else if (typeof google != 'undefined' && google.colab.kernel != null) {\n        var comm_promise = google.colab.kernel.comms.open(comm_id)\n        comm_promise.then((comm) => {\n          window.PyViz.comms[comm_id] = comm;\n          if (msg_handler) {\n            var messages = comm.messages[Symbol.asyncIterator]();\n            function processIteratorResult(result) {\n              var message = result.value;\n              var content = {data: message.data};\n              var metadata = message.metadata || {comm_id};\n              var msg = {content, metadata}\n              msg_handler(msg);\n              return messages.next().then(processIteratorResult);\n            }\n            return messages.next().then(processIteratorResult);\n          }\n        }) \n        var sendClosure = (data, metadata, buffers, disposeOnDone) => {\n          return comm_promise.then((comm) => {\n            comm.send(data, metadata, buffers, disposeOnDone);\n          });\n        };\n        var comm = {\n          send: sendClosure\n        };\n      }\n      window.PyViz.comms[comm_id] = comm;\n      return comm;\n    }\n    window.PyViz.comm_manager = new JupyterCommManager();\n    \n\n\nvar JS_MIME_TYPE = 'application/javascript';\nvar HTML_MIME_TYPE = 'text/html';\nvar EXEC_MIME_TYPE = 'application/vnd.holoviews_exec.v0+json';\nvar CLASS_NAME = 'output';\n\n/**\n * Render data to the DOM node\n */\nfunction render(props, node) {\n  var div = document.createElement(\"div\");\n  var script = document.createElement(\"script\");\n  node.appendChild(div);\n  node.appendChild(script);\n}\n\n/**\n * Handle when a new output is added\n */\nfunction handle_add_output(event, handle) {\n  var output_area = handle.output_area;\n  var output = handle.output;\n  if ((output.data == undefined) || (!output.data.hasOwnProperty(EXEC_MIME_TYPE))) {\n    return\n  }\n  var id = output.metadata[EXEC_MIME_TYPE][\"id\"];\n  var toinsert = output_area.element.find(\".\" + CLASS_NAME.split(' ')[0]);\n  if (id !== undefined) {\n    var nchildren = toinsert.length;\n    var html_node = toinsert[nchildren-1].children[0];\n    html_node.innerHTML = output.data[HTML_MIME_TYPE];\n    var scripts = [];\n    var nodelist = html_node.querySelectorAll(\"script\");\n    for (var i in nodelist) {\n      if (nodelist.hasOwnProperty(i)) {\n        scripts.push(nodelist[i])\n      }\n    }\n\n    scripts.forEach( function (oldScript) {\n      var newScript = document.createElement(\"script\");\n      var attrs = [];\n      var nodemap = oldScript.attributes;\n      for (var j in nodemap) {\n        if (nodemap.hasOwnProperty(j)) {\n          attrs.push(nodemap[j])\n        }\n      }\n      attrs.forEach(function(attr) { newScript.setAttribute(attr.name, attr.value) });\n      newScript.appendChild(document.createTextNode(oldScript.innerHTML));\n      oldScript.parentNode.replaceChild(newScript, oldScript);\n    });\n    if (JS_MIME_TYPE in output.data) {\n      toinsert[nchildren-1].children[1].textContent = output.data[JS_MIME_TYPE];\n    }\n    output_area._hv_plot_id = id;\n    if ((window.Bokeh !== undefined) && (id in Bokeh.index)) {\n      window.PyViz.plot_index[id] = Bokeh.index[id];\n    } else {\n      window.PyViz.plot_index[id] = null;\n    }\n  } else if (output.metadata[EXEC_MIME_TYPE][\"server_id\"] !== undefined) {\n    var bk_div = document.createElement(\"div\");\n    bk_div.innerHTML = output.data[HTML_MIME_TYPE];\n    var script_attrs = bk_div.children[0].attributes;\n    for (var i = 0; i < script_attrs.length; i++) {\n      toinsert[toinsert.length - 1].childNodes[1].setAttribute(script_attrs[i].name, script_attrs[i].value);\n    }\n    // store reference to server id on output_area\n    output_area._bokeh_server_id = output.metadata[EXEC_MIME_TYPE][\"server_id\"];\n  }\n}\n\n/**\n * Handle when an output is cleared or removed\n */\nfunction handle_clear_output(event, handle) {\n  var id = handle.cell.output_area._hv_plot_id;\n  var server_id = handle.cell.output_area._bokeh_server_id;\n  if (((id === undefined) || !(id in PyViz.plot_index)) && (server_id !== undefined)) { return; }\n  var comm = window.PyViz.comm_manager.get_client_comm(\"hv-extension-comm\", \"hv-extension-comm\", function () {});\n  if (server_id !== null) {\n    comm.send({event_type: 'server_delete', 'id': server_id});\n    return;\n  } else if (comm !== null) {\n    comm.send({event_type: 'delete', 'id': id});\n  }\n  delete PyViz.plot_index[id];\n  if ((window.Bokeh !== undefined) & (id in window.Bokeh.index)) {\n    var doc = window.Bokeh.index[id].model.document\n    doc.clear();\n    const i = window.Bokeh.documents.indexOf(doc);\n    if (i > -1) {\n      window.Bokeh.documents.splice(i, 1);\n    }\n  }\n}\n\n/**\n * Handle kernel restart event\n */\nfunction handle_kernel_cleanup(event, handle) {\n  delete PyViz.comms[\"hv-extension-comm\"];\n  window.PyViz.plot_index = {}\n}\n\n/**\n * Handle update_display_data messages\n */\nfunction handle_update_output(event, handle) {\n  handle_clear_output(event, {cell: {output_area: handle.output_area}})\n  handle_add_output(event, handle)\n}\n\nfunction register_renderer(events, OutputArea) {\n  function append_mime(data, metadata, element) {\n    // create a DOM node to render to\n    var toinsert = this.create_output_subarea(\n    metadata,\n    CLASS_NAME,\n    EXEC_MIME_TYPE\n    );\n    this.keyboard_manager.register_events(toinsert);\n    // Render to node\n    var props = {data: data, metadata: metadata[EXEC_MIME_TYPE]};\n    render(props, toinsert[0]);\n    element.append(toinsert);\n    return toinsert\n  }\n\n  events.on('output_added.OutputArea', handle_add_output);\n  events.on('output_updated.OutputArea', handle_update_output);\n  events.on('clear_output.CodeCell', handle_clear_output);\n  events.on('delete.Cell', handle_clear_output);\n  events.on('kernel_ready.Kernel', handle_kernel_cleanup);\n\n  OutputArea.prototype.register_mime_type(EXEC_MIME_TYPE, append_mime, {\n    safe: true,\n    index: 0\n  });\n}\n\nif (window.Jupyter !== undefined) {\n  try {\n    var events = require('base/js/events');\n    var OutputArea = require('notebook/js/outputarea').OutputArea;\n    if (OutputArea.prototype.mime_types().indexOf(EXEC_MIME_TYPE) == -1) {\n      register_renderer(events, OutputArea);\n    }\n  } catch(err) {\n  }\n}\n"
     },
     "metadata": {},
     "output_type": "display_data"
    },
    {
     "data": {
      "text/html": [
       "<style>.bk-root, .bk-root .bk:before, .bk-root .bk:after {\n",
       "  font-family: var(--jp-ui-font-size1);\n",
       "  font-size: var(--jp-ui-font-size1);\n",
       "  color: var(--jp-ui-font-color1);\n",
       "}\n",
       "</style>"
      ]
     },
     "metadata": {},
     "output_type": "display_data"
    }
   ],
   "source": [
    "geemap.view_lidar(filename, cmap='terrain', backend='panel', background='white')"
   ]
  },
  {
   "cell_type": "markdown",
   "metadata": {},
   "source": [
    "![](https://i.imgur.com/XQGWbJk.gif)"
   ]
  },
  {
   "cell_type": "markdown",
   "metadata": {},
   "source": [
    "Visualize LiDAR data using the [open3d](http://www.open3d.org) backend. "
   ]
  },
  {
   "cell_type": "code",
   "execution_count": null,
   "metadata": {},
   "outputs": [],
   "source": [
    "# geemap.view_lidar(filename, backend='open3d')"
   ]
  },
  {
   "cell_type": "markdown",
   "metadata": {},
   "source": [
    "![](https://i.imgur.com/rL85fbl.gif)"
   ]
  }
 ],
 "metadata": {
  "hide_input": false,
  "kernelspec": {
   "display_name": "Python 3 (ipykernel)",
   "language": "python",
   "name": "python3"
  },
  "language_info": {
   "codemirror_mode": {
    "name": "ipython",
    "version": 3
   },
   "file_extension": ".py",
   "mimetype": "text/x-python",
   "name": "python",
   "nbconvert_exporter": "python",
   "pygments_lexer": "ipython3",
   "version": "3.10.4"
  },
  "toc": {
   "base_numbering": 1,
   "nav_menu": {},
   "number_sections": true,
   "sideBar": true,
   "skip_h1_title": false,
   "title_cell": "Table of Contents",
   "title_sidebar": "Contents",
   "toc_cell": false,
   "toc_position": {},
   "toc_section_display": true,
   "toc_window_display": false
  },
  "varInspector": {
   "cols": {
    "lenName": 16,
    "lenType": 16,
    "lenVar": 40
   },
   "kernels_config": {
    "python": {
     "delete_cmd_postfix": "",
     "delete_cmd_prefix": "del ",
     "library": "var_list.py",
     "varRefreshCmd": "print(var_dic_list())"
    },
    "r": {
     "delete_cmd_postfix": ") ",
     "delete_cmd_prefix": "rm(",
     "library": "var_list.r",
     "varRefreshCmd": "cat(var_dic_list()) "
    }
   },
   "types_to_exclude": [
    "module",
    "function",
    "builtin_function_or_method",
    "instance",
    "_Feature"
   ],
   "window_display": false
  }
 },
 "nbformat": 4,
 "nbformat_minor": 4
}
